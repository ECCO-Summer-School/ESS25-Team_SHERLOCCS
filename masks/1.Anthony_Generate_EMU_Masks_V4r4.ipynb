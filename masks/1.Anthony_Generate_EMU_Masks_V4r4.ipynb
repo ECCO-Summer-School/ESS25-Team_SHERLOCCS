{
 "cells": [
  {
   "cell_type": "markdown",
   "id": "c3e2141b-47b6-4b37-b847-64c5ba1693ee",
   "metadata": {},
   "source": [
    "# Introdocution\n",
    "\n",
    "\n",
    "The purpose of this notebook is to save a mask for the California Current System that can be used with the EMU tool. \n",
    "\n"
   ]
  },
  {
   "cell_type": "code",
   "execution_count": 7,
   "id": "b5399745-d78d-4663-a6ff-c658a845df2c",
   "metadata": {},
   "outputs": [],
   "source": [
    "import sys\n",
    "from os.path import join,expanduser\n",
    "user_home_dir = expanduser('~')\n",
    "\n",
    "#point to the correct src path if this doesnt work\n",
    "sys.path.insert(0,join(user_home_dir,'efs_ecco/ameza/ESS25-Team_SHERLOCCS/src'))\n",
    "\n",
    "from src import * \n",
    "\n",
    "datadir = lambda x: \"/efs_ecco/ameza/ESS25-Team_SHERLOCCS/masks/\" + x"
   ]
  },
  {
   "cell_type": "code",
   "execution_count": 14,
   "id": "b8ca3643-cf80-4a5f-94e5-fa14bb13e0e5",
   "metadata": {
    "scrolled": true
   },
   "outputs": [],
   "source": [
    "## Set top-level file directory for the ECCO NetCDF files\n",
    "## =================================================================\n",
    "\n",
    "## currently set to ~/Downloads/ECCO_V4r4_PODAAC, \n",
    "## the default if ecco_podaac_download was used to download dataset granules\n",
    "ECCO_dir = join('/efs_ecco','ameza')\n",
    "\n",
    "# for access_mode = 's3_open_fsspec', need to specify the root directory \n",
    "# containing the jsons\n",
    "jsons_root_dir = join('/efs_ecco','mzz-jsons')\n",
    "\n",
    "access_mode = 's3_open_fsspec'\n",
    "\n",
    "## access datasets needed for this tutorial\n",
    "\n",
    "ShortNames_list = [\"ECCO_L4_GEOMETRY_LLC0090GRID_V4R4\"]\n",
    "StartDate = '1991-01'\n",
    "EndDate = '2018-12'\n",
    "ds_GEOM = ea.ecco_podaac_to_xrdataset(ShortNames_list,\\\n",
    "                                            StartDate=StartDate,EndDate=EndDate,\\\n",
    "                                            mode=access_mode,\\\n",
    "                                            download_root_dir=ECCO_dir,\\\n",
    "                                            max_avail_frac=0.5,\\\n",
    "                                            jsons_root_dir=jsons_root_dir)\n",
    "\n",
    "ccc_mask = xr.open_dataset(datadir(\"CCC_mask_Anthony.nc\"))"
   ]
  },
  {
   "cell_type": "code",
   "execution_count": 18,
   "id": "1bcb6519-086d-405b-89e8-1d5bd9b7297b",
   "metadata": {},
   "outputs": [],
   "source": [
    "def calculate_emu_mask(ds_mask, ds_GEOM): \n",
    "    pos_def_mask = enforce_pos_def_mask(ds_mask)\n",
    "    ocean_volume = get_cell_volumes(ds_GEOM)\n",
    "    \n",
    "    masked_volume = ocean_volume * pos_def_mask\n",
    "    \n",
    "    return masked_volume / masked_volume.sum()\n",
    "    \n",
    "def save_emu_mask(ds_mask, ds_GEOM, fname=\"mask\"):\n",
    "    emu_mask = calculate_emu_mask(ds_mask, ds_GEOM).compute()\n",
    "    mask3d_c = ecco.llc_tiles_to_compact(emu_mask, less_output=True)\n",
    "    print(np.isnan(mask3d_c).sum())\n",
    "\n",
    "    file_path = datadir(f\"{fname}.bin\")\n",
    "    print(f\"Saving mask as: {file_path}\")\n",
    "    mask3d_c.astype('>f4').tofile(file_path)"
   ]
  },
  {
   "cell_type": "code",
   "execution_count": 19,
   "id": "9b8846db-b7cb-4141-8c03-b9f3cc52e71b",
   "metadata": {},
   "outputs": [
    {
     "name": "stdout",
     "output_type": "stream",
     "text": [
      "llc_faces_to_compact: data_compact array shape (50, 1170, 90)\n",
      "0\n",
      "Saving mask as: /efs_ecco/ameza/ESS25-Team_SHERLOCCS/masks/CCC_surf_mask.bin\n"
     ]
    }
   ],
   "source": [
    "save_emu_mask(ccc_mask[\"CCC_surf_mask\"], ds_GEOM, fname = \"CCC_surf_mask\")"
   ]
  },
  {
   "cell_type": "code",
   "execution_count": 20,
   "id": "5925f2b5-88f2-4916-a0c5-dda41044b12a",
   "metadata": {},
   "outputs": [
    {
     "name": "stdout",
     "output_type": "stream",
     "text": [
      "llc_faces_to_compact: data_compact array shape (50, 1170, 90)\n",
      "0\n",
      "Saving mask as: /efs_ecco/ameza/ESS25-Team_SHERLOCCS/masks/CCC_sub_surf_mask.bin\n"
     ]
    }
   ],
   "source": [
    "save_emu_mask(ccc_mask[\"CCC_sub_surf_mask\"], ds_GEOM, fname = \"CCC_sub_surf_mask\")"
   ]
  },
  {
   "cell_type": "code",
   "execution_count": null,
   "id": "60ee0948-188e-4b4b-8bb3-88ee0c857fd5",
   "metadata": {},
   "outputs": [],
   "source": []
  }
 ],
 "metadata": {
  "kernelspec": {
   "display_name": "Python 3 (ipykernel)",
   "language": "python",
   "name": "python3"
  },
  "language_info": {
   "codemirror_mode": {
    "name": "ipython",
    "version": 3
   },
   "file_extension": ".py",
   "mimetype": "text/x-python",
   "name": "python",
   "nbconvert_exporter": "python",
   "pygments_lexer": "ipython3",
   "version": "3.12.8"
  }
 },
 "nbformat": 4,
 "nbformat_minor": 5
}
